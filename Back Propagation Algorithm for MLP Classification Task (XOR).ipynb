{
 "cells": [
  {
   "cell_type": "markdown",
   "metadata": {
    "id": "sOa2wy9WLmDd"
   },
   "source": [
    "**Name:** Bala Guga Gopal S\n",
    "\n",
    "**Script Name:** Back Propagation Algorithm for XOR\n",
    "\n",
    "**Script Description:** Implementing Back Propagation Algorithm for MLP: Classification Task (XOR)"
   ]
  },
  {
   "cell_type": "markdown",
   "metadata": {
    "id": "PFQ54BXCVfuG"
   },
   "source": [
    "### XOR LOGIC GATE\n",
    "\n",
    "An XOR (exclusive OR gate) is a digital logic gate that gives a true output only when both its inputs differ from each other. The truth table for an XOR gate is shown below:\n",
    "\n",
    "![image](https://user-images.githubusercontent.com/59637425/152112045-000d3293-839c-449a-b8dd-6a453c0e62d3.png)\n"
   ]
  },
  {
   "cell_type": "markdown",
   "metadata": {
    "id": "fm3uDpYdWvhF"
   },
   "source": [
    "If the input patterns are plotted according to their outputs, it is seen that these points are not linearly separable. Hence the neural network has to be modeled to separate these input patterns using decision planes.\n",
    "\n",
    "![image](https://user-images.githubusercontent.com/59637425/152117582-e5bcf1a3-9bc5-4eaf-afbe-71abefd5a71a.png)\n",
    "\n",
    "\n",
    "The neural network needs to produce two different decision planes to linearly separate the input data based on the output patterns. This is achieved by using the concept of hidden layers. The neural network will consist of one input layer with two nodes (X1,X2); one hidden layer with two nodes (since two decision planes are needed); and one output layer with one node (Y). Hence, the neural network looks like this:\n",
    "\n",
    "![image](https://user-images.githubusercontent.com/59637425/152112413-f128cbbc-ea05-4540-9eca-93da6b71e72c.png)"
   ]
  },
  {
   "cell_type": "markdown",
   "metadata": {
    "id": "uuuS-dHOidz7"
   },
   "source": [
    "Importing the required libraries"
   ]
  },
  {
   "cell_type": "code",
   "execution_count": 30,
   "metadata": {
    "id": "hUs1CNjvOJtE"
   },
   "outputs": [],
   "source": [
    "import numpy as np\n",
    "import matplotlib.pyplot as plt"
   ]
  },
  {
   "cell_type": "markdown",
   "metadata": {
    "id": "88uBwaoLhYBz"
   },
   "source": [
    "To implement an XOR gate, I will be using a Sigmoid Neuron as nodes in the neural network. The characteristics of a Sigmoid Neuron are:\n",
    "1. Can accept real values as input.\n",
    "2. The value of the activation is equal to the weighted sum of its inputs\n",
    "i.e. ∑wi xi\n",
    "3. The output of the sigmoid neuron is a function of the sigmoid function, which is also known as a logistic regression function. The sigmoid function is a continuous function which outputs values between 0 and 1"
   ]
  },
  {
   "cell_type": "code",
   "execution_count": 31,
   "metadata": {
    "id": "lk5VMrHaOV3p"
   },
   "outputs": [],
   "source": [
    "def sigmoid_func(x):\n",
    " y=1+np.exp(-x)\n",
    " y=1/y\n",
    " return y"
   ]
  },
  {
   "cell_type": "markdown",
   "metadata": {
    "id": "3ToDxBbqhuEp"
   },
   "source": [
    "Forward finding output for input layer, and passing it on to as the input for the hidden layer and doing same to get output of output layer."
   ]
  },
  {
   "cell_type": "code",
   "execution_count": 32,
   "metadata": {
    "id": "dB20tT_SOaXN"
   },
   "outputs": [],
   "source": [
    "def fwd_pass(X_training, wt1, wt2):\n",
    "  a1=np.matmul(X_training,wt1)\n",
    "  z1=sigmoid_func(a1)\n",
    "  len_z1=len(z1)\n",
    "  b=np.ones((len_z1,1))\n",
    "  z1=np.concatenate((b,z1),axis=1)\n",
    "  a2=np.matmul(z1,wt2)\n",
    "  z2=sigmoid_func(a2)\n",
    "  return a1,z1,a2,z2"
   ]
  },
  {
   "cell_type": "markdown",
   "metadata": {
    "id": "SfwDHtaJiUkV"
   },
   "source": [
    "Finding the loss (difference of predicted output and actual output) and hence finding derivatives, using the chain rule, going backwards.\n",
    "Then weight updation by subtracting them , that is changing all weights and biases.\n"
   ]
  },
  {
   "cell_type": "code",
   "execution_count": 33,
   "metadata": {
    "id": "IM0vmc2GOlYS"
   },
   "outputs": [],
   "source": [
    "def back_propagation(a2, z0, z1, z2, y):\n",
    "  diff2 = z2-y\n",
    "  Derivative2=np.matmul(z1.T,diff2)\n",
    "  diff1=(diff2.dot( w2[1:,:].T ))*sigmoid_func(a1)*(1-sigmoid_func(a1))\n",
    "  Derivative1=np.matmul(z0.T,diff1)\n",
    "  return diff2,Derivative1, Derivative2"
   ]
  },
  {
   "cell_type": "code",
   "execution_count": 34,
   "metadata": {
    "id": "ln0TitPsPGsh"
   },
   "outputs": [],
   "source": [
    "# weight updation\n",
    "def updateWeights(Derivative1,Derivative2,learning_rate,m,w1,w2):\n",
    "  change_in_w1= learning_rate*(1/m)*Derivative1\n",
    "  w1=w1 - change_in_w1\n",
    "  change_in_w2= learning_rate*(1/m)*Derivative2\n",
    "  w2= w2 - change_in_w2\n",
    "  return w1,w2"
   ]
  },
  {
   "cell_type": "code",
   "execution_count": 35,
   "metadata": {
    "id": "nAyclKORPdGg"
   },
   "outputs": [],
   "source": [
    "# Predection\n",
    "def predict(X_test,weight1,weight2):\n",
    "  a1,z1,a2,z2=fwd_pass(X_test,weight1,weight2)\n",
    "  return z2"
   ]
  },
  {
   "cell_type": "code",
   "execution_count": 36,
   "metadata": {
    "id": "ys6qvQ4aPiz5"
   },
   "outputs": [],
   "source": [
    "# Testing\n",
    "def test(X_test,y_test):\n",
    "  y_predicted=predict(X_test,w1,w2)\n",
    "  print(\"Test set is :\")\n",
    "  print(X_test[:,1:])\n",
    "  print(\"\\nPredicted values for Test set are\")\n",
    "  print(np.round(y_predicted))\n",
    "  print(\"\\n And actual y values for test set are\")\n",
    "  print(y_test)"
   ]
  },
  {
   "cell_type": "code",
   "execution_count": 40,
   "metadata": {
    "id": "iHIWLX6PP8nt"
   },
   "outputs": [],
   "source": [
    "# Input arrays\n",
    "X = np.array([[1,0,0],\n",
    " [1,0,1],\n",
    " [1,1,0 ],\n",
    " [1,1,1]])\n",
    "y=np.array([[0],\n",
    " [1],\n",
    " [1],\n",
    " [0]])"
   ]
  },
  {
   "cell_type": "code",
   "execution_count": 41,
   "metadata": {
    "id": "YUy_jClrQF_N"
   },
   "outputs": [],
   "source": [
    "#Defining random weights(w1,w2) and learning rate, cost function, num of epochs\n",
    "w1=np.random.randn(3,5)\n",
    "w2=np.random.randn(6,1)\n",
    "learning_rate=0.05\n",
    "costs=[]\n",
    "num_epoch=10000"
   ]
  },
  {
   "cell_type": "code",
   "execution_count": 42,
   "metadata": {
    "colab": {
     "base_uri": "https://localhost:8080/"
    },
    "id": "stUVyskeQLI_",
    "outputId": "2b8e27b5-b906-40d8-e0cb-f522bb48d312"
   },
   "outputs": [
    {
     "name": "stdout",
     "output_type": "stream",
     "text": [
      "In Iterartion: 1\n",
      "the error is :0.5062935203192177\n",
      "\n",
      "In Iterartion: 10000\n",
      "the error is :0.045139892189890826\n",
      "\n"
     ]
    }
   ],
   "source": [
    "# training (iterating throught the algo)\n",
    "m=len(X)\n",
    "\n",
    "for i in range(num_epoch):\n",
    "  a1,z1,a2,z2=fwd_pass(X,w1,w2)\n",
    "  diff2, Derivative1,Derivative2=back_propagation(a2,X,z1,z2,y)\n",
    "  w1,w2=updateWeights(Derivative1,Derivative2,learning_rate,m,w1,w2)\n",
    "  cost_i=np.mean(np.abs(diff2))\n",
    "  costs.append(cost_i)\n",
    "  if i == 0 or i==num_epoch-1:\n",
    "    print(\"In Iterartion: \"+ str(i+1))\n",
    "    print(\"the error is :\"+str(cost_i)+\"\\n\")"
   ]
  },
  {
   "cell_type": "code",
   "execution_count": 43,
   "metadata": {
    "colab": {
     "base_uri": "https://localhost:8080/",
     "height": 445
    },
    "id": "0elzaxEPQpNj",
    "outputId": "b5d2073a-1113-461a-a370-537944d1219e"
   },
   "outputs": [
    {
     "name": "stdout",
     "output_type": "stream",
     "text": [
      "After the completion of Training :\n",
      "\n",
      "Y value predicted: \n",
      "[[0.]\n",
      " [1.]\n",
      " [1.]\n",
      " [0.]]\n",
      "\n",
      "\n"
     ]
    },
    {
     "data": {
      "image/png": "[encoded data removed]",
      "text/plain": [
       "<Figure size 432x288 with 1 Axes>"
      ]
     },
     "metadata": {
      "needs_background": "light"
     },
     "output_type": "display_data"
    }
   ],
   "source": [
    "# error vs epoch plot and OUTPUT\n",
    "print(\"After the completion of Training :\\n\")\n",
    "z3=predict(X,w1,w2)\n",
    "print(\"Y value predicted: \")\n",
    "print(np.round(z3))\n",
    "print(\"\\n\")\n",
    "plt.plot(costs)\n",
    "plt.ylabel('Error')\n",
    "plt.xlabel('Epochs')\n",
    "plt.show()"
   ]
  }
 ],
 "metadata": {
  "colab": {
   "name": "Untitled0.ipynb",
   "provenance": []
  },
  "kernelspec": {
   "display_name": "Python 3 (ipykernel)",
   "language": "python",
   "name": "python3"
  },
  "language_info": {
   "codemirror_mode": {
    "name": "ipython",
    "version": 3
   },
   "file_extension": ".py",
   "mimetype": "text/x-python",
   "name": "python",
   "nbconvert_exporter": "python",
   "pygments_lexer": "ipython3",
   "version": "3.8.10"
  }
 },
 "nbformat": 4,
 "nbformat_minor": 1
}
