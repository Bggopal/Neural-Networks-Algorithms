{
 "cells": [
  {
   "cell_type": "markdown",
   "metadata": {
    "id": "--jpBJUii4yg"
   },
   "source": [
    "**Name:** Bala Guga Gopal S\n",
    "\n",
    "**Script Name:**  Implementing McCulloch and Pitts neuron OR and AND digital logic gate\n",
    "\n",
    "**Script Description:** Implementing McCulloch and Pitts neuron **OR** and **AND** digital logic gate using python lib"
   ]
  },
  {
   "cell_type": "markdown",
   "metadata": {
    "id": "4TAAOg6Qm-sf"
   },
   "source": [
    "#McCulloch-Pitts Neuron\n",
    "\n",
    "The first computational model of a neuron was proposed by Warren MuCulloch (neuroscientist) and Walter Pitts (logician) in 1943. The McCulloch–Pitt neural network is considered to be the first neural network. The neurons are connected by directed weighted paths. McCulloch–Pitt neuron allows binary activation (1 ON or 0 OFF), i.e., it either fires with an activation 1 or does not fire with an activation of 0. If w > 0, then the connected path is said to be excitatory else it is known as inhibitory. Excitatory connections have positive weights and inhibitory connections have negative weights. Each neuron has a fixed threshold for firing. That is, if the net input to the neuron is greater than the threshold, it fires.\n",
    "<p align=\"center\">\n",
    "    <img src=\"https://miro.medium.com/max/550/1*NLchBzohJvCCNMPPnF-V-A.png\" width=\"450\" height=\"150\">\n",
    "</p> \n",
    "<p align=\"center\">\n",
    "    <img src=\"https://miro.medium.com/max/369/1*fDHlg9iNo0LLK4czQqqO9A.png\" width=\"350\" height=\"250\">\n",
    "</p> "
   ]
  },
  {
   "cell_type": "markdown",
   "metadata": {
    "id": "s887bwPFgGvH"
   },
   "source": [
    "# AND gate using MP model\n",
    "\n",
    "AND logical function truth table for 2-bit binary variables, i.e, the input vector $\\boldsymbol{x} : (\\boldsymbol{x_{1}}, \\boldsymbol{x_{2}})$ and the corresponding output $\\boldsymbol{y}$ –\n",
    "<p align=\"center\">\n",
    "    <img src=\"https://www.allaboutcircuits.com/uploads/articles/two-input-and-gate-truth-table.jpg\" width=\"250\" height=\"250\">\n",
    "</p> \n",
    "Taken weight parameters are $\\boldsymbol{w_{1}} = 1, \\boldsymbol{w_{2}} = 1$ and the threshhold is  = 1."
   ]
  },
  {
   "cell_type": "code",
   "execution_count": 48,
   "metadata": {
    "colab": {
     "base_uri": "https://localhost:8080/"
    },
    "id": "0_5o_vNr7tLh",
    "outputId": "87a91c1b-f562-45b3-eed1-6fd8eec1c63a"
   },
   "outputs": [
    {
     "name": "stdout",
     "output_type": "stream",
     "text": [
      "   X1  X2  Y\n",
      "0   0   0  0\n",
      "1   0   1  0\n",
      "2   1   0  0\n",
      "3   1   1  1\n"
     ]
    }
   ],
   "source": [
    "#importing libraries\n",
    "import numpy as np\n",
    "import pandas as pd\n",
    "\n",
    "x1 = np.array([0, 0, 1, 1]) # X1 input for OR\n",
    "x2 = np.array([0, 1, 0, 1]) # X1 input for OR\n",
    "w1 = 1 #weight one\n",
    "w2 = 1 #weight two\n",
    "threshold = 1 #threshold\n",
    "\n",
    "y = [None]*4  #output variable\n",
    "\n",
    "#for loop to iterate over all the inputs x(n)\n",
    "for i in range(4):\n",
    "  n = np.add((x1[i]*w1),(x2[i]*w2))\n",
    "  #print(n)\n",
    "  if (n>threshold):\n",
    "    y[i] = 1\n",
    "  else:\n",
    "    y[i] = 0\n",
    "    \n",
    "#print Result in screen using dataframe\n",
    "result = [x1,x2,y]\n",
    "df = pd.DataFrame(result, index=['X1','X2','Y'])\n",
    "print(df.T)"
   ]
  },
  {
   "cell_type": "markdown",
   "metadata": {
    "id": "Dm-ggwI0nxfv"
   },
   "source": [
    "# OR gate Using MP Model\n",
    "OR logical function truth table for 2-bit binary variables, i.e, the input vector $\\boldsymbol{x} : (\\boldsymbol{x_{1}}, \\boldsymbol{x_{2}})$ and the corresponding output $\\boldsymbol{y}$ –\n",
    "<p align=\"center\">\n",
    "    <img src=\"https://electronics-club.com/wp-content/uploads/2019/04/OR-Gate.png\" width=\"450\" height=\"250\">\n",
    "</p> \n",
    "Taken weight parameters are $\\boldsymbol{w_{1}} = 1, \\boldsymbol{w_{2}} = 1$ and the threshold = 1."
   ]
  },
  {
   "cell_type": "code",
   "execution_count": 49,
   "metadata": {
    "colab": {
     "base_uri": "https://localhost:8080/"
    },
    "id": "N8g5_ZqldWAQ",
    "outputId": "847d9623-94e3-4b61-8855-9092df016b57"
   },
   "outputs": [
    {
     "name": "stdout",
     "output_type": "stream",
     "text": [
      "   X1  X2  Y\n",
      "0   0   0  0\n",
      "1   0   1  1\n",
      "2   1   0  1\n",
      "3   1   1  1\n"
     ]
    }
   ],
   "source": [
    "#importing libraries\n",
    "import numpy as np\n",
    "import pandas as pd\n",
    "\n",
    "x1 = np.array([0, 0, 1, 1]) # X1 input for OR\n",
    "x2 = np.array([0, 1, 0, 1]) # X1 input for OR\n",
    "w1 = 1 #weight one\n",
    "w2 = 1 #weight two\n",
    "threshold = 1 \n",
    "y = [None]*4 #output variable\n",
    "\n",
    "#for loop to iterate over all the inputs x(n)\n",
    "for i in range(4):\n",
    "  n = np.add((x1[i]*w1),(x2[i]*w2))\n",
    "  #print(n)\n",
    "  if (n>=threshold):\n",
    "    y[i] = 1\n",
    "  else:\n",
    "    y[i] = 0\n",
    "\n",
    "#print Result in screen using dataframe\n",
    "result = [x1,x2,y]\n",
    "df = pd.DataFrame(result, index=['X1','X2','Y'])\n",
    "print(df.T)"
   ]
  }
 ],
 "metadata": {
  "colab": {
   "collapsed_sections": [],
   "name": "BalaGugaGopal_NNLabExp_1.2.ipynb",
   "provenance": []
  },
  "kernelspec": {
   "display_name": "Python 3 (ipykernel)",
   "language": "python",
   "name": "python3"
  },
  "language_info": {
   "codemirror_mode": {
    "name": "ipython",
    "version": 3
   },
   "file_extension": ".py",
   "mimetype": "text/x-python",
   "name": "python",
   "nbconvert_exporter": "python",
   "pygments_lexer": "ipython3",
   "version": "3.8.10"
  }
 },
 "nbformat": 4,
 "nbformat_minor": 1
}
