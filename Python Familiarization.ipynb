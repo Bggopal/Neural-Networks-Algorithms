{
 "cells": [
  {
   "cell_type": "markdown",
   "metadata": {
    "id": "--jpBJUii4yg"
   },
   "source": [
    "**Name:** Bala Guga Gopal S\n",
    "\n",
    "**Script Name:**  Python Familiarization\n",
    "\n",
    "**Script Description:** Familiarization with basic of python programming"
   ]
  },
  {
   "cell_type": "markdown",
   "metadata": {
    "id": "TO5WvuIKkuf1"
   },
   "source": [
    "# Experiment details\n",
    "\n",
    "The objective of this experiment is to familiarize the python enivronment, tools and libraries used through out this course. In this experiment the topics covered for the same are\n",
    "\n",
    "\n",
    "1. Python and Python Libraries\n",
    "2. Pandas\n",
    "3. Numpy\n",
    "4. SciPy\n",
    "5. Matplotlib\n",
    "\n"
   ]
  },
  {
   "cell_type": "markdown",
   "metadata": {
    "id": "dXkjTAgN8ocp"
   },
   "source": [
    "# Python and Python Libraries.\n",
    "`Python is an interpreted high-level general-purpose programming language. Its design philosophy emphasizes code readability with its use of significant indentation. Its language constructs as well as its object-oriented approach aim to help programmers write clear, logical code for small and large-scale projects` - ***Wikipedia***\n",
    "\n",
    "Python Libraries are a set of useful functions that eliminate the need for writing codes from scratch. There are over 137,000 python libraries present today. Python libraries play a vital role in developing machine learning, data science, data visualization, image and data manipulation applications, and more"
   ]
  },
  {
   "cell_type": "markdown",
   "metadata": {
    "id": "Ul1S12oHmu0i"
   },
   "source": [
    "# Pandas\n",
    "\n",
    "pandas is a column-oriented data analysis API. It's a great tool for handling and analyzing input data, and many ML frameworks support pandas data structures as inputs. Although a comprehensive introduction to the pandas API would span many pages, the core concepts are fairly straightforward, and we'll present them below. For a more complete reference, the pandas docs site contains extensive documentation and many tutorials\n",
    "\n",
    "The following line imports the pandas API and prints the API version:"
   ]
  },
  {
   "cell_type": "code",
   "execution_count": null,
   "metadata": {
    "colab": {
     "base_uri": "https://localhost:8080/",
     "height": 35
    },
    "id": "0Ow79f0gm-dC",
    "outputId": "964dda3b-b6e6-41c7-adc1-3d21aeed0315"
   },
   "outputs": [
    {
     "data": {
      "application/vnd.google.colaboratory.intrinsic+json": {
       "type": "string"
      },
      "text/plain": [
       "'1.1.5'"
      ]
     },
     "execution_count": 1,
     "metadata": {},
     "output_type": "execute_result"
    }
   ],
   "source": [
    "from __future__ import print_function\n",
    "\n",
    "import pandas as pd\n",
    "pd.__version__"
   ]
  },
  {
   "cell_type": "markdown",
   "metadata": {
    "id": "OxwwDwvqrkG9"
   },
   "source": [
    "Creating a self datas using dictionary in python and using pandas to manipulate them."
   ]
  },
  {
   "cell_type": "code",
   "execution_count": null,
   "metadata": {
    "colab": {
     "base_uri": "https://localhost:8080/"
    },
    "id": "wm7H6fBPrjts",
    "outputId": "fd7f4b51-fec6-4f75-b452-ff4979300764"
   },
   "outputs": [
    {
     "name": "stdout",
     "output_type": "stream",
     "text": [
      "     Name  Age    Address Qualification\n",
      "0     Jai   27      Delhi           Msc\n",
      "1  Princi   24     Kanpur            MA\n",
      "2  Gaurav   22  Allahabad           MCA\n",
      "3    Anuj   32    Kannauj           Phd\n"
     ]
    }
   ],
   "source": [
    "import pandas as pd\n",
    "  \n",
    "# Dictionary containing employee data\n",
    "data = {'Name':['Jai', 'Princi', 'Gaurav', 'Anuj'],\n",
    "        'Age':[27, 24, 22, 32],\n",
    "        'Address':['Delhi', 'Kanpur', 'Allahabad', 'Kannauj'],\n",
    "        'Qualification':['Msc', 'MA', 'MCA', 'Phd']}\n",
    "  \n",
    "# Convert the dictionary into DataFrame \n",
    "df = pd.DataFrame(data)\n",
    "  \n",
    "# select two columns\n",
    "print(df)"
   ]
  },
  {
   "cell_type": "markdown",
   "metadata": {
    "id": "oaUnP-hCvziS"
   },
   "source": [
    "printing only the Name and Qualification coloumn"
   ]
  },
  {
   "cell_type": "code",
   "execution_count": null,
   "metadata": {
    "colab": {
     "base_uri": "https://localhost:8080/",
     "height": 175
    },
    "id": "lzdlZgnzvxl_",
    "outputId": "faad8bea-f20d-400c-d7b1-049bef00ad24"
   },
   "outputs": [
    {
     "data": {
      "text/html": [
       "<div>\n",
       "<style scoped>\n",
       "    .dataframe tbody tr th:only-of-type {\n",
       "        vertical-align: middle;\n",
       "    }\n",
       "\n",
       "    .dataframe tbody tr th {\n",
       "        vertical-align: top;\n",
       "    }\n",
       "\n",
       "    .dataframe thead th {\n",
       "        text-align: right;\n",
       "    }\n",
       "</style>\n",
       "<table border=\"1\" class=\"dataframe\">\n",
       "  <thead>\n",
       "    <tr style=\"text-align: right;\">\n",
       "      <th></th>\n",
       "      <th>Name</th>\n",
       "      <th>Qualification</th>\n",
       "    </tr>\n",
       "  </thead>\n",
       "  <tbody>\n",
       "    <tr>\n",
       "      <th>0</th>\n",
       "      <td>Jai</td>\n",
       "      <td>Msc</td>\n",
       "    </tr>\n",
       "    <tr>\n",
       "      <th>1</th>\n",
       "      <td>Princi</td>\n",
       "      <td>MA</td>\n",
       "    </tr>\n",
       "    <tr>\n",
       "      <th>2</th>\n",
       "      <td>Gaurav</td>\n",
       "      <td>MCA</td>\n",
       "    </tr>\n",
       "    <tr>\n",
       "      <th>3</th>\n",
       "      <td>Anuj</td>\n",
       "      <td>Phd</td>\n",
       "    </tr>\n",
       "  </tbody>\n",
       "</table>\n",
       "</div>"
      ],
      "text/plain": [
       "     Name Qualification\n",
       "0     Jai           Msc\n",
       "1  Princi            MA\n",
       "2  Gaurav           MCA\n",
       "3    Anuj           Phd"
      ]
     },
     "execution_count": 12,
     "metadata": {},
     "output_type": "execute_result"
    }
   ],
   "source": [
    "df[['Name', 'Qualification']]"
   ]
  },
  {
   "cell_type": "markdown",
   "metadata": {
    "id": "Vu3Z_UJRwJLZ"
   },
   "source": [
    "Printing Only the details of the first employee"
   ]
  },
  {
   "cell_type": "code",
   "execution_count": null,
   "metadata": {
    "colab": {
     "base_uri": "https://localhost:8080/"
    },
    "id": "yDd5POWzwGHf",
    "outputId": "455cdb82-4e9b-4503-934b-039140614bf4"
   },
   "outputs": [
    {
     "data": {
      "text/plain": [
       "Name               Jai\n",
       "Age                 27\n",
       "Address          Delhi\n",
       "Qualification      Msc\n",
       "Name: 0, dtype: object"
      ]
     },
     "execution_count": 13,
     "metadata": {},
     "output_type": "execute_result"
    }
   ],
   "source": [
    "df.loc[0, :]"
   ]
  },
  {
   "cell_type": "markdown",
   "metadata": {
    "id": "7jZ14mLLnsYc"
   },
   "source": [
    "Below code imports a csv file form a URL and reads the file using pandas and prints the same. "
   ]
  },
  {
   "cell_type": "code",
   "execution_count": null,
   "metadata": {
    "colab": {
     "base_uri": "https://localhost:8080/"
    },
    "id": "msYXoQj8nrvn",
    "outputId": "8ca8ae35-cef2-49d4-a904-1de1edf699c4"
   },
   "outputs": [
    {
     "name": "stdout",
     "output_type": "stream",
     "text": [
      "    id  location_id                   address_1  address_2                 city state_province postal_code country\n",
      "0    1            1       2600 Middlefield Road        NaN         Redwood City             CA       94063      US\n",
      "1    2            2            24 Second Avenue        NaN            San Mateo             CA       94401      US\n",
      "2    3            3            24 Second Avenue        NaN            San Mateo             CA       94403      US\n",
      "3    4            4            24 Second Avenue        NaN            San Mateo             CA       94401      US\n",
      "4    5            5            24 Second Avenue        NaN            San Mateo             CA       94401      US\n",
      "5    6            6           800 Middle Avenue        NaN           Menlo Park             CA  94025-9881      US\n",
      "6    7            7              500 Arbor Road        NaN           Menlo Park             CA       94025      US\n",
      "7    8            8           800 Middle Avenue        NaN           Menlo Park             CA  94025-9881      US\n",
      "8    9            9       2510 Middlefield Road        NaN         Redwood City             CA       94063      US\n",
      "9   10           10       1044 Middlefield Road        NaN         Redwood City             CA       94063      US\n",
      "10  11           11         2140 Euclid Avenue.        NaN         Redwood City             CA       94061      US\n",
      "11  12           12       1044 Middlefield Road  2nd Floor         Redwood City             CA       94063      US\n",
      "12  13           13         399 Marine Parkway.        NaN         Redwood City             CA       94065      US\n",
      "13  14           14          660 Veterans Blvd.        NaN         Redwood City             CA       94063      US\n",
      "14  15           15        1500 Valencia Street        NaN        San Francisco             CA       94110      US\n",
      "15  16           16         1161 South Bernardo        NaN            Sunnyvale             CA       94087      US\n",
      "16  17           17     409 South Spruce Avenue        NaN  South San Francisco             CA       94080      US\n",
      "17  18           18            114 Fifth Avenue        NaN         Redwood City             CA       94063      US\n",
      "18  19           19         19 West 39th Avenue        NaN            San Mateo             CA       94403      US\n",
      "19  20           21          123 El Camino Real        NaN              Belmont             CA       94002      US\n",
      "20  21           22  2013 Avenue of the fellows  Suite 100        San Francisco             CA       94103      US\n"
     ]
    }
   ],
   "source": [
    "url = 'https://raw.githubusercontent.com/codeforamerica/ohana-api/master/data/sample-csv/addresses.csv'\n",
    "df = pd.read_csv(url)\n",
    "print(df.to_string())"
   ]
  },
  {
   "cell_type": "markdown",
   "metadata": {
    "id": "VyaIRHzWxd4l"
   },
   "source": [
    "This prints list of coloumn in the csv "
   ]
  },
  {
   "cell_type": "code",
   "execution_count": null,
   "metadata": {
    "colab": {
     "base_uri": "https://localhost:8080/"
    },
    "id": "AICxZTODxRen",
    "outputId": "339ecc13-333b-4986-aef4-c994520036ee"
   },
   "outputs": [
    {
     "name": "stdout",
     "output_type": "stream",
     "text": [
      "List of column names :  ['id', 'location_id', 'address_1', 'address_2', 'city', 'state_province', 'postal_code', 'country']\n"
     ]
    }
   ],
   "source": [
    "list_of_column_names = list(df.columns)\n",
    " \n",
    "# displaying the list of column names\n",
    "print('List of column names : ',\n",
    "      list_of_column_names)"
   ]
  },
  {
   "cell_type": "markdown",
   "metadata": {
    "id": "x6PCe2_AyPiC"
   },
   "source": [
    "# Numpy\n",
    "\n",
    "NumPy is a Python library for creating and manipulating vectors and matrices. Using NumPy, a developer can perform the following operations −\n",
    "1. Mathematical and logical operations on arrays.\n",
    "2. Fourier transforms and routines for shape manipulation.\n",
    "3. Operations related to linear algebra. NumPy has in-built functions for linear algebra and random number generation\n",
    "\n",
    "\n",
    "\n",
    "\n",
    "\n"
   ]
  },
  {
   "cell_type": "markdown",
   "metadata": {
    "id": "Ll9RWewwFwX6"
   },
   "source": [
    "\n",
    " Import NumPy module\n",
    "\n",
    "Run the following code cell to import the NumPy module and print the version of it."
   ]
  },
  {
   "cell_type": "code",
   "execution_count": 20,
   "metadata": {
    "colab": {
     "base_uri": "https://localhost:8080/"
    },
    "id": "jziN94t8x6-6",
    "outputId": "e7b2360b-b659-43f6-a0bd-6fb01423d723"
   },
   "outputs": [
    {
     "name": "stdout",
     "output_type": "stream",
     "text": [
      "1.19.5\n"
     ]
    }
   ],
   "source": [
    "import numpy as np \n",
    "print(np.__version__)"
   ]
  },
  {
   "cell_type": "markdown",
   "metadata": {
    "id": "t8tgcOdo1BRb"
   },
   "source": [
    "### Populate arrays with specific numbers\n",
    "\n",
    "Call `np.array` to create a NumPy matrix with your own hand-picked values. For example, the following call to `np.array` creates an 8-element vector:"
   ]
  },
  {
   "cell_type": "code",
   "execution_count": 21,
   "metadata": {
    "colab": {
     "base_uri": "https://localhost:8080/"
    },
    "id": "C_aWIrAV1NS3",
    "outputId": "cc9a8c97-5ecf-4dea-fe6f-f03a4c711cc4"
   },
   "outputs": [
    {
     "name": "stdout",
     "output_type": "stream",
     "text": [
      "[1.2 2.4 3.5 4.7 6.1 7.2 8.3 9.5]\n"
     ]
    }
   ],
   "source": [
    "one_dimensional_array = np.array([1.2, 2.4, 3.5, 4.7, 6.1, 7.2, 8.3, 9.5])\n",
    "print(one_dimensional_array)"
   ]
  },
  {
   "cell_type": "markdown",
   "metadata": {
    "id": "UGwl6mOz1VYk"
   },
   "source": [
    "two dimensional array using np"
   ]
  },
  {
   "cell_type": "code",
   "execution_count": 22,
   "metadata": {
    "colab": {
     "base_uri": "https://localhost:8080/"
    },
    "id": "dQQhSKbS1THb",
    "outputId": "31396183-4ece-4a0c-a7f0-7b83aa6e41d6"
   },
   "outputs": [
    {
     "name": "stdout",
     "output_type": "stream",
     "text": [
      "[[ 6  5]\n",
      " [11  7]\n",
      " [ 4  8]]\n"
     ]
    }
   ],
   "source": [
    "two_dimensional_array = np.array([[6, 5], [11, 7], [4, 8]])\n",
    "print(two_dimensional_array)"
   ]
  },
  {
   "cell_type": "markdown",
   "metadata": {
    "id": "Xp901bP-1r2K"
   },
   "source": [
    "### Arrays with random numbers\n",
    "\n",
    "`np.random.randint` generates random integers between a low and high value. The following call populates a 6-element vector with random integers between 50 and 100"
   ]
  },
  {
   "cell_type": "code",
   "execution_count": 24,
   "metadata": {
    "colab": {
     "base_uri": "https://localhost:8080/"
    },
    "id": "fVDzYmlC16aY",
    "outputId": "c5f1304b-b051-41f9-a7d0-9e17aaedbdab"
   },
   "outputs": [
    {
     "name": "stdout",
     "output_type": "stream",
     "text": [
      "[90 88 99 78 96 89]\n"
     ]
    }
   ],
   "source": [
    "random_integers_between_50_and_100 = np.random.randint(low=50, high=101, size=(6))\n",
    "print(random_integers_between_50_and_100)"
   ]
  },
  {
   "cell_type": "markdown",
   "metadata": {
    "id": "eCkf6g-E2LCC"
   },
   "source": [
    "### Mathematical Operations on NumPy Operands\n",
    "\n",
    "If you want to add or subtract two vectors or matrices, linear algebra requires that the two operands have the same dimensions. Furthermore, if you want to multiply two vectors or matrices, linear algebra imposes strict rules on the dimensional compatibility of operands"
   ]
  },
  {
   "cell_type": "code",
   "execution_count": 27,
   "metadata": {
    "colab": {
     "base_uri": "https://localhost:8080/"
    },
    "id": "tS5qaBul2SGu",
    "outputId": "9c1fea62-f455-45b0-cad0-2fff8701f113"
   },
   "outputs": [
    {
     "name": "stdout",
     "output_type": "stream",
     "text": [
      "[2.53345992 2.23401047 2.67376414 2.93469142 2.14694236 2.96954954]\n"
     ]
    }
   ],
   "source": [
    "random_floats_between_0_and_1 = np.random.random([6])\n",
    "random_floats_between_2_and_3 = random_floats_between_0_and_1 + 2.0\n",
    "print(random_floats_between_2_and_3)"
   ]
  },
  {
   "cell_type": "markdown",
   "metadata": {
    "id": "SVwy12b12yrF"
   },
   "source": [
    "The following operation also relies on broadcasting to multiply each cell in a vector by 3"
   ]
  },
  {
   "cell_type": "code",
   "execution_count": 28,
   "metadata": {
    "colab": {
     "base_uri": "https://localhost:8080/"
    },
    "id": "5wKgKD1d20x1",
    "outputId": "d1c737df-230f-44e3-a6ae-f93af22cc691"
   },
   "outputs": [
    {
     "name": "stdout",
     "output_type": "stream",
     "text": [
      "[270 264 297 234 288 267]\n"
     ]
    }
   ],
   "source": [
    "random_integers_between_150_and_300 = random_integers_between_50_and_100 * 3\n",
    "print(random_integers_between_150_and_300)"
   ]
  },
  {
   "cell_type": "markdown",
   "metadata": {
    "id": "2Gxf2koI3DyU"
   },
   "source": [
    "# SciPy\n",
    "\n",
    "The SciPy library of Python is built to work with NumPy arrays and provides many user-friendly and efficient numerical practices such as routines for numerical integration and optimization. Together, they run on all popular operating systems, are quick to install and are free of charge. NumPy and SciPy are easy to use, but powerful enough to depend on by some of the world's leading scientists and engineers\n",
    "\n",
    "Below imports and check the version of the scipy"
   ]
  },
  {
   "cell_type": "code",
   "execution_count": 29,
   "metadata": {
    "colab": {
     "base_uri": "https://localhost:8080/"
    },
    "id": "AqxtS-K-3_AT",
    "outputId": "647a9b12-9a75-4a14-8177-acee846a36cd"
   },
   "outputs": [
    {
     "name": "stdout",
     "output_type": "stream",
     "text": [
      "1.4.1\n"
     ]
    }
   ],
   "source": [
    "import scipy\n",
    "\n",
    "print(scipy.__version__)"
   ]
  },
  {
   "cell_type": "markdown",
   "metadata": {
    "id": "rL_UNmsq4oMD"
   },
   "source": [
    "Below codes shows few examples of mathematical operations performed usinfg scipy"
   ]
  },
  {
   "cell_type": "code",
   "execution_count": 30,
   "metadata": {
    "id": "_NtAS98p4B_q"
   },
   "outputs": [],
   "source": [
    "# import numpy library\n",
    "import numpy as np\n",
    "A = np.array([[1,2,3],[4,5,6],[7,8,8]])"
   ]
  },
  {
   "cell_type": "markdown",
   "metadata": {
    "id": "uBeY3gVF43Dp"
   },
   "source": [
    "Determinant of a Matrix"
   ]
  },
  {
   "cell_type": "code",
   "execution_count": 31,
   "metadata": {
    "colab": {
     "base_uri": "https://localhost:8080/"
    },
    "id": "ZmxO6PP642uA",
    "outputId": "851fb0e8-dd14-4579-e2e9-69ecd1725e54"
   },
   "outputs": [
    {
     "data": {
      "text/plain": [
       "3.0"
      ]
     },
     "execution_count": 31,
     "metadata": {},
     "output_type": "execute_result"
    }
   ],
   "source": [
    "# importing linalg function from scipy\n",
    "from scipy import linalg\n",
    "\n",
    "# Compute the determinant of a matrix\n",
    "linalg.det(A)"
   ]
  },
  {
   "cell_type": "markdown",
   "metadata": {
    "id": "OXNCuazN5K4P"
   },
   "source": [
    "Compute pivoted LU decomposition of a matrix"
   ]
  },
  {
   "cell_type": "code",
   "execution_count": 32,
   "metadata": {
    "colab": {
     "base_uri": "https://localhost:8080/"
    },
    "id": "2NS_e4AB5M_D",
    "outputId": "9accc6d8-5578-4f1d-893d-2f8ad3d18932"
   },
   "outputs": [
    {
     "name": "stdout",
     "output_type": "stream",
     "text": [
      "[[0. 1. 0.]\n",
      " [0. 0. 1.]\n",
      " [1. 0. 0.]]\n",
      "[[1.         0.         0.        ]\n",
      " [0.14285714 1.         0.        ]\n",
      " [0.57142857 0.5        1.        ]]\n",
      "[[7.         8.         8.        ]\n",
      " [0.         0.85714286 1.85714286]\n",
      " [0.         0.         0.5       ]]\n",
      "[[7. 8. 8.]\n",
      " [1. 2. 3.]\n",
      " [4. 5. 6.]]\n"
     ]
    }
   ],
   "source": [
    "P, L, U = linalg.lu(A)\n",
    "print(P)\n",
    "print(L)\n",
    "print(U)\n",
    "# print LU decomposition\n",
    "print(np.dot(L,U))"
   ]
  },
  {
   "cell_type": "markdown",
   "metadata": {
    "id": "2igOy9kg5VUQ"
   },
   "source": [
    "Eigen values and eigen vectors of this matrix"
   ]
  },
  {
   "cell_type": "code",
   "execution_count": 33,
   "metadata": {
    "colab": {
     "base_uri": "https://localhost:8080/"
    },
    "id": "rzZ0RkFO5Wvy",
    "outputId": "4a598e5c-df0a-4817-9abf-0f90ad85d16f"
   },
   "outputs": [
    {
     "name": "stdout",
     "output_type": "stream",
     "text": [
      "[15.55528261+0.j -1.41940876+0.j -0.13587385+0.j]\n",
      "[[-0.24043423 -0.67468642  0.51853459]\n",
      " [-0.54694322 -0.23391616 -0.78895962]\n",
      " [-0.80190056  0.70005819  0.32964312]]\n"
     ]
    }
   ],
   "source": [
    "eigen_values, eigen_vectors = linalg.eig(A)\n",
    "print(eigen_values)\n",
    "print(eigen_vectors)"
   ]
  },
  {
   "cell_type": "markdown",
   "metadata": {
    "id": "UxSebkt95jJe"
   },
   "source": [
    "Solving systems of linear equations can also be done"
   ]
  },
  {
   "cell_type": "code",
   "execution_count": 34,
   "metadata": {
    "colab": {
     "base_uri": "https://localhost:8080/"
    },
    "id": "RlF-R0bD5kvE",
    "outputId": "f48ca8c4-00d3-45fb-d354-ad3778a386fb"
   },
   "outputs": [
    {
     "name": "stdout",
     "output_type": "stream",
     "text": [
      "[[2]\n",
      " [3]\n",
      " [5]]\n",
      "[[-2.33333333]\n",
      " [ 3.66666667]\n",
      " [-1.        ]]\n"
     ]
    }
   ],
   "source": [
    "v = np.array([[2],[3],[5]])\n",
    "print(v)\n",
    "s = linalg.solve(A,v)\n",
    "print(s)"
   ]
  },
  {
   "cell_type": "markdown",
   "metadata": {
    "id": "U7Z3g5X55w9d"
   },
   "source": [
    "Integration"
   ]
  },
  {
   "cell_type": "code",
   "execution_count": 35,
   "metadata": {
    "colab": {
     "base_uri": "https://localhost:8080/"
    },
    "id": "eJ7imqu75xxf",
    "outputId": "c5d85faf-279c-4895-d54e-71ab182fb13c"
   },
   "outputs": [
    {
     "name": "stdout",
     "output_type": "stream",
     "text": [
      "(0.7468241328124271, 8.291413475940725e-15)\n"
     ]
    }
   ],
   "source": [
    "import scipy.integrate\n",
    "f= lambda x:np.exp(-x**2)\n",
    "# print results\n",
    "i = scipy.integrate.quad(f, 0, 1)\n",
    "print(i)"
   ]
  },
  {
   "cell_type": "markdown",
   "metadata": {
    "id": "iSLtY6hW54u0"
   },
   "source": [
    "Double integration"
   ]
  },
  {
   "cell_type": "code",
   "execution_count": 36,
   "metadata": {
    "colab": {
     "base_uri": "https://localhost:8080/"
    },
    "id": "CYaUR6Iy58IB",
    "outputId": "bb49eb9d-96b7-49c9-8051-deebfe6a072b"
   },
   "outputs": [
    {
     "name": "stdout",
     "output_type": "stream",
     "text": [
      "(0.6666666666666667, 7.401486830834377e-15)\n"
     ]
    }
   ],
   "source": [
    "from scipy import integrate\n",
    "f = lambda y, x: x*y**2\n",
    "i = integrate.dblquad(f, 0, 2, lambda x: 0, lambda x: 1)\n",
    "# print the results\n",
    "print(i)"
   ]
  },
  {
   "cell_type": "markdown",
   "metadata": {
    "id": "HttK3p9P6Ejl"
   },
   "source": [
    "# Matplotlib\n",
    "\n",
    "Matplotlib is a python library used to create 2D graphs and plots by using python scripts. It has a module named pyplot which makes things easy for plotting by providing feature to control line styles, font properties, formatting axes etc. It supports a very wide variety of graphs and plots namely - histogram, bar charts, power spectra, error charts etc. It is used along with NumPy to provide an environment that is an effective open source alternative for MatLab. It can also be used with graphics toolkits like PyQt and wxPython\n",
    "\n",
    "Following code imports and prints the version of the Matplotlib.\n",
    "\n"
   ]
  },
  {
   "cell_type": "code",
   "execution_count": 37,
   "metadata": {
    "colab": {
     "base_uri": "https://localhost:8080/"
    },
    "id": "ie4qmEbC6vBh",
    "outputId": "4683c600-1c92-4c8c-8003-7ed267567f3f"
   },
   "outputs": [
    {
     "name": "stdout",
     "output_type": "stream",
     "text": [
      "3.2.2\n"
     ]
    }
   ],
   "source": [
    "import matplotlib \n",
    "print(matplotlib. __version__)"
   ]
  },
  {
   "cell_type": "markdown",
   "metadata": {
    "id": "C2jRRtVb6cNE"
   },
   "source": [
    "The following script produces the sine wave plot using matplotlib.\n",
    "\n"
   ]
  },
  {
   "cell_type": "code",
   "execution_count": 38,
   "metadata": {
    "colab": {
     "base_uri": "https://localhost:8080/",
     "height": 281
    },
    "id": "6F5YWdRx6b-b",
    "outputId": "3135c221-dca9-430a-99d9-43d14bc59e96"
   },
   "outputs": [
    {
     "data": {
      "image/png": "[encoded data removed]",
      "text/plain": [
       "<Figure size 432x288 with 1 Axes>"
      ]
     },
     "metadata": {
      "needs_background": "light"
     },
     "output_type": "display_data"
    }
   ],
   "source": [
    "import numpy as np \n",
    "import matplotlib.pyplot as plt  \n",
    "\n",
    "# Compute the x and y coordinates for points on a sine curve \n",
    "x = np.arange(0, 3 * np.pi, 0.1) \n",
    "y = np.sin(x) \n",
    "plt.title(\"sine wave form\") \n",
    "\n",
    "# Plot the points using matplotlib \n",
    "plt.plot(x, y) \n",
    "plt.show() "
   ]
  }
 ],
 "metadata": {
  "colab": {
   "collapsed_sections": [],
   "name": "BalaGugaGopal_NNLabExp_1.1.ipynb",
   "provenance": []
  },
  "kernelspec": {
   "display_name": "Python 3 (ipykernel)",
   "language": "python",
   "name": "python3"
  },
  "language_info": {
   "codemirror_mode": {
    "name": "ipython",
    "version": 3
   },
   "file_extension": ".py",
   "mimetype": "text/x-python",
   "name": "python",
   "nbconvert_exporter": "python",
   "pygments_lexer": "ipython3",
   "version": "3.8.10"
  }
 },
 "nbformat": 4,
 "nbformat_minor": 1
}
