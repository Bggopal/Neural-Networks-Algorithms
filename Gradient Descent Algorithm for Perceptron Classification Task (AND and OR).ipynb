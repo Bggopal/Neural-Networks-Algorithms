{
 "cells": [
  {
   "cell_type": "markdown",
   "metadata": {
    "id": "Aym0DxfFFiSM"
   },
   "source": [
    "**Name:** Bala Guga Gopal S\n",
    "\n",
    "**Script Name:**  Gradient Descent Algorithm for Logic gates\n",
    "\n",
    "**Script Description:** Implementing Gradient Descent Algorithm for Perceptron: Classification Task (AND and OR)"
   ]
  },
  {
   "cell_type": "markdown",
   "metadata": {
    "id": "7wTq0j-YHny2"
   },
   "source": [
    "# Gradient Descent Algorithm for Logic gates 'AND' 'OR' \n",
    "\n",
    "Gradient Descent is an optimization algorithm used for minimizing the cost function in various machine learning algorithms. GD is an iterative first-order optimisation algorithm used to find a local minimum/maximum of a given function. It is basically used for updating the parameters of the learning model.\n",
    "\n",
    "Gradient Descent Algorithm iteratively calculates the next point using gradient at the current position, then scales it (by a learning rate) and subtracts obtained value from the current position (makes a step). It subtracts the value because we want to minimise the function (to maximise it would be adding). This process can be written as:\n",
    "\n",
    "![img](https://miro.medium.com/max/165/1*GixQ9i6cQSvlfoe_XZdcog.gif)\n",
    "\n",
    "Gradient Descent method’s steps are:\n",
    "\n",
    "    1. choose a starting point (initialisation)\n",
    "    2. calculate gradient at this point \n",
    "    3. make a scaled step in the opposite direction to the gradient(minimizing)\n",
    "    4. repeat points 2 and 3 until one of the criteria is met:\n",
    "       maximum number of iterations reached\n",
    "       step size is smaller than the tolerance.\n"
   ]
  },
  {
   "cell_type": "markdown",
   "metadata": {
    "id": "rh9vBUi5KzES"
   },
   "source": [
    "# Logic gates\n",
    "\n",
    "![img](http://www.circuitstoday.com/wp-content/uploads/2010/04/2-Input-AND-Gate-Truth-Table.jpg)\n",
    "\n",
    "![img](https://i0.wp.com/blog.oureducation.in/wp-content/uploads/2013/05/2-Input-OR-Gate-Truth-Table.jpg?ssl=1)"
   ]
  },
  {
   "cell_type": "markdown",
   "metadata": {
    "id": "a4vFSWK7F5qF"
   },
   "source": [
    "# Import libraries"
   ]
  },
  {
   "cell_type": "code",
   "execution_count": 6,
   "metadata": {
    "id": "3A_gnFsSF1yQ"
   },
   "outputs": [],
   "source": [
    "import numpy as np \n",
    "import matplotlib.pyplot as plt"
   ]
  },
  {
   "cell_type": "markdown",
   "metadata": {
    "id": "FHXb-iXDGE0P"
   },
   "source": [
    "# Class for GradeintDescent algorithm"
   ]
  },
  {
   "cell_type": "code",
   "execution_count": 7,
   "metadata": {
    "id": "LmrvA3B8GnsA"
   },
   "outputs": [],
   "source": [
    "class GradeintDescent:\n",
    "  \n",
    "  def __init__(self,inputs,outputs,learning_rate=0.2,epoch_count=100,k=4):\n",
    "    self.X=inputs\n",
    "    self.y=outputs\n",
    "    self.loss=0\n",
    "    self.lr=learning_rate\n",
    "    self.n_epochs=epoch_count\n",
    "    self.k=k\n",
    "    self.y_pred=[]\n",
    "    self.w=0\n",
    "    self.b=0\n",
    "    self.w_list=[]\n",
    "    self.sq_loss=[]\n",
    "  \n",
    "  def  loss_error (self):\n",
    "    \"\"\"\n",
    "    defining a function that will calculate the error/ lossA\n",
    "    since classification apply cross entropy\n",
    "     cross_entropy= -1/N Σ(desired*log(predicted)) \n",
    "    \"\"\"   \n",
    "    self.loss= -(np.sum(self.y*np.log(self.y_pred)))/float(4)\n",
    "  \n",
    "  def predict(self):# function to perform prediction with optimized weights and bias\n",
    "\n",
    "    print(f'prediction with optimized weights and bais \\n {np.where((np.dot(self.X,self.w.T)+self.b)<0.5,0,1)}')\n",
    "\n",
    "  def gradeintdescent_regressor(self):\n",
    "      \"\"\"\n",
    "       Function that will do gradient descent algorithm\n",
    "      initializing weight vector and bais to some random values,\n",
    "      k is the number of input values , here it is 4 \n",
    "      \"\"\"\n",
    "      \n",
    "      self.w =np.array([0.1,0.1])\n",
    "      self.b = np.random.randn(1,1)   # some random value for bias\n",
    "      w_list=[] # list to append weights\n",
    "      epoch=1\n",
    "      sq_loss = [] # list to append loss\n",
    "      while epoch <= self.n_epochs:\n",
    "          \n",
    "          Lw = self.w # variable to store gradient of weight\n",
    "          Lb = self.b # variable to store gradient of bias\n",
    "          \n",
    "          #loss = 0\n",
    "          self.y_pred = [] # list to append predicted values        \n",
    "          for i in range(self.k):\n",
    "                \n",
    "              Lw = np.dot(-2/self.k , self.X[i]) * (self.y[i] - np.dot(self.X[i],self.w.T) - self.b) # finding gradient of weight\n",
    "              Lb = (-2/self.k) * (self.y[i] - np.dot(self.X[i],self.w.T) - self.b) # finding gradient of bias\n",
    "              \n",
    "              self.w = self.w - self.lr * Lw # updating weight\n",
    "              self.b = self.b - self.lr * Lb # updating bais\n",
    "              \n",
    "              \n",
    "              #y_predicted=float( (np.dot(self.X[i],self.w.T)+self.b)) # predicting for current weight and bias\n",
    "              #print(y_predicted)\n",
    "              y_predicted= 1/(1+np.exp(-(np.dot(self.X[i],self.w.T)+self.b))) # using sigmoid activation function\n",
    "              self.y_pred.append(y_predicted)\n",
    "\n",
    "          self.w_list.append(self.w)\n",
    "          self.loss_error() # calculating loss after every epoch\n",
    "          self.sq_loss.append(self.loss)   \n",
    "          print(\"Epoch: %d, Loss: %.3f\" %(epoch, self.loss))\n",
    "          epoch+=1\n",
    "          #learning_rate = learning_rate/1.02\n",
    "      \"\"\"\n",
    "      Plotting Loss vs epoch graph\n",
    "      \"\"\"\n",
    "      plt.figure()\n",
    "      plt.plot(self.sq_loss)\n",
    "      plt.xlabel(\"Epochs\")\n",
    "      plt.ylabel(\"Loss value\")\n",
    "      plt.show()\n",
    "\n",
    "\n",
    "\n",
    "      \"\"\"\n",
    "      Plotting graph between  cost and weights cost vs weight\n",
    "      \"\"\"\n",
    "\n",
    "      plt.plot([w1[0][0] for w1 in self.w_list]  ,self.sq_loss)\n",
    "      plt.plot([w1[0][1] for w1 in self.w_list],self.sq_loss)\n",
    "\n",
    "      plt.scatter([w1[0][0] for w1 in self.w_list], self.sq_loss, marker='o', color='red')\n",
    "      plt.scatter([w1[0][1] for w1 in self.w_list], self.sq_loss, marker='o', color='green')\n",
    "      plt.title(\"Cost vs Weights\")\n",
    "      plt.ylabel(\"Cost\")\n",
    "      plt.xlabel(\"Weight\")\n",
    "      plt.show()\n",
    "      self.predict()\n"
   ]
  },
  {
   "cell_type": "markdown",
   "metadata": {
    "id": "u2Jck4rDUq4P"
   },
   "source": [
    "# For OR gate"
   ]
  },
  {
   "cell_type": "code",
   "execution_count": 8,
   "metadata": {
    "colab": {
     "base_uri": "https://localhost:8080/",
     "height": 1000
    },
    "id": "08g5b7phRgZ5",
    "outputId": "4099acae-26b8-4d52-9e48-6f2c935f69ba"
   },
   "outputs": [
    {
     "name": "stdout",
     "output_type": "stream",
     "text": [
      "Epoch: 1, Loss: 2.288\n",
      "Epoch: 2, Loss: 2.201\n",
      "Epoch: 3, Loss: 2.122\n",
      "Epoch: 4, Loss: 2.050\n",
      "Epoch: 5, Loss: 1.984\n",
      "Epoch: 6, Loss: 1.924\n",
      "Epoch: 7, Loss: 1.868\n",
      "Epoch: 8, Loss: 1.818\n",
      "Epoch: 9, Loss: 1.771\n",
      "Epoch: 10, Loss: 1.729\n",
      "Epoch: 11, Loss: 1.690\n",
      "Epoch: 12, Loss: 1.653\n",
      "Epoch: 13, Loss: 1.620\n",
      "Epoch: 14, Loss: 1.590\n",
      "Epoch: 15, Loss: 1.561\n",
      "Epoch: 16, Loss: 1.535\n",
      "Epoch: 17, Loss: 1.511\n",
      "Epoch: 18, Loss: 1.489\n",
      "Epoch: 19, Loss: 1.468\n",
      "Epoch: 20, Loss: 1.449\n",
      "Epoch: 21, Loss: 1.431\n",
      "Epoch: 22, Loss: 1.415\n",
      "Epoch: 23, Loss: 1.399\n",
      "Epoch: 24, Loss: 1.385\n",
      "Epoch: 25, Loss: 1.372\n",
      "Epoch: 26, Loss: 1.360\n",
      "Epoch: 27, Loss: 1.348\n",
      "Epoch: 28, Loss: 1.338\n",
      "Epoch: 29, Loss: 1.328\n",
      "Epoch: 30, Loss: 1.319\n",
      "Epoch: 31, Loss: 1.310\n",
      "Epoch: 32, Loss: 1.302\n",
      "Epoch: 33, Loss: 1.295\n",
      "Epoch: 34, Loss: 1.288\n",
      "Epoch: 35, Loss: 1.281\n",
      "Epoch: 36, Loss: 1.275\n",
      "Epoch: 37, Loss: 1.270\n",
      "Epoch: 38, Loss: 1.264\n",
      "Epoch: 39, Loss: 1.260\n",
      "Epoch: 40, Loss: 1.255\n",
      "Epoch: 41, Loss: 1.251\n",
      "Epoch: 42, Loss: 1.247\n",
      "Epoch: 43, Loss: 1.243\n",
      "Epoch: 44, Loss: 1.240\n",
      "Epoch: 45, Loss: 1.236\n",
      "Epoch: 46, Loss: 1.233\n",
      "Epoch: 47, Loss: 1.230\n",
      "Epoch: 48, Loss: 1.228\n",
      "Epoch: 49, Loss: 1.225\n",
      "Epoch: 50, Loss: 1.223\n",
      "Epoch: 51, Loss: 1.221\n",
      "Epoch: 52, Loss: 1.219\n",
      "Epoch: 53, Loss: 1.217\n",
      "Epoch: 54, Loss: 1.215\n",
      "Epoch: 55, Loss: 1.214\n",
      "Epoch: 56, Loss: 1.212\n",
      "Epoch: 57, Loss: 1.211\n",
      "Epoch: 58, Loss: 1.209\n",
      "Epoch: 59, Loss: 1.208\n",
      "Epoch: 60, Loss: 1.207\n",
      "Epoch: 61, Loss: 1.206\n",
      "Epoch: 62, Loss: 1.205\n",
      "Epoch: 63, Loss: 1.204\n",
      "Epoch: 64, Loss: 1.203\n",
      "Epoch: 65, Loss: 1.202\n",
      "Epoch: 66, Loss: 1.202\n",
      "Epoch: 67, Loss: 1.201\n",
      "Epoch: 68, Loss: 1.200\n",
      "Epoch: 69, Loss: 1.200\n",
      "Epoch: 70, Loss: 1.199\n",
      "Epoch: 71, Loss: 1.198\n",
      "Epoch: 72, Loss: 1.198\n",
      "Epoch: 73, Loss: 1.197\n",
      "Epoch: 74, Loss: 1.197\n",
      "Epoch: 75, Loss: 1.197\n",
      "Epoch: 76, Loss: 1.196\n",
      "Epoch: 77, Loss: 1.196\n",
      "Epoch: 78, Loss: 1.196\n",
      "Epoch: 79, Loss: 1.195\n",
      "Epoch: 80, Loss: 1.195\n",
      "Epoch: 81, Loss: 1.195\n",
      "Epoch: 82, Loss: 1.195\n",
      "Epoch: 83, Loss: 1.194\n",
      "Epoch: 84, Loss: 1.194\n",
      "Epoch: 85, Loss: 1.194\n",
      "Epoch: 86, Loss: 1.194\n",
      "Epoch: 87, Loss: 1.194\n",
      "Epoch: 88, Loss: 1.194\n",
      "Epoch: 89, Loss: 1.193\n",
      "Epoch: 90, Loss: 1.193\n",
      "Epoch: 91, Loss: 1.193\n",
      "Epoch: 92, Loss: 1.193\n",
      "Epoch: 93, Loss: 1.193\n",
      "Epoch: 94, Loss: 1.193\n",
      "Epoch: 95, Loss: 1.193\n",
      "Epoch: 96, Loss: 1.193\n",
      "Epoch: 97, Loss: 1.193\n",
      "Epoch: 98, Loss: 1.193\n",
      "Epoch: 99, Loss: 1.193\n",
      "Epoch: 100, Loss: 1.193\n"
     ]
    },
    {
     "data": {
      "image/png": "[encoded data removed]",
      "text/plain": [
       "<Figure size 432x288 with 1 Axes>"
      ]
     },
     "metadata": {
      "needs_background": "light"
     },
     "output_type": "display_data"
    },
    {
     "data": {
      "image/png": "[encoded data removed]",
      "text/plain": [
       "<Figure size 432x288 with 1 Axes>"
      ]
     },
     "metadata": {
      "needs_background": "light"
     },
     "output_type": "display_data"
    },
    {
     "name": "stdout",
     "output_type": "stream",
     "text": [
      "prediction with optimized weights and bais \n",
      " [[0]\n",
      " [1]\n",
      " [1]\n",
      " [1]]\n"
     ]
    }
   ],
   "source": [
    "x=np.array([[0,0],[0,1],[1,0],[1,1]])\n",
    "y=np.array([0,1,1,1])\n",
    "\n",
    "GradeintDescent(x,y,epoch_count=100,learning_rate=0.02).gradeintdescent_regressor()"
   ]
  },
  {
   "cell_type": "markdown",
   "metadata": {
    "id": "hq7zgxpvU8jM"
   },
   "source": [
    "# For AND gate"
   ]
  },
  {
   "cell_type": "code",
   "execution_count": 9,
   "metadata": {
    "colab": {
     "base_uri": "https://localhost:8080/",
     "height": 1000
    },
    "id": "4EKk0BTLS0V7",
    "outputId": "59700f9e-1f0b-4242-ac4c-3de0429745e9"
   },
   "outputs": [
    {
     "name": "stdout",
     "output_type": "stream",
     "text": [
      "Epoch: 1, Loss: 0.735\n",
      "Epoch: 2, Loss: 0.723\n",
      "Epoch: 3, Loss: 0.712\n",
      "Epoch: 4, Loss: 0.701\n",
      "Epoch: 5, Loss: 0.692\n",
      "Epoch: 6, Loss: 0.683\n",
      "Epoch: 7, Loss: 0.675\n",
      "Epoch: 8, Loss: 0.668\n",
      "Epoch: 9, Loss: 0.661\n",
      "Epoch: 10, Loss: 0.654\n",
      "Epoch: 11, Loss: 0.648\n",
      "Epoch: 12, Loss: 0.642\n",
      "Epoch: 13, Loss: 0.637\n",
      "Epoch: 14, Loss: 0.632\n",
      "Epoch: 15, Loss: 0.628\n",
      "Epoch: 16, Loss: 0.624\n",
      "Epoch: 17, Loss: 0.620\n",
      "Epoch: 18, Loss: 0.616\n",
      "Epoch: 19, Loss: 0.613\n",
      "Epoch: 20, Loss: 0.610\n",
      "Epoch: 21, Loss: 0.607\n",
      "Epoch: 22, Loss: 0.604\n",
      "Epoch: 23, Loss: 0.601\n",
      "Epoch: 24, Loss: 0.599\n",
      "Epoch: 25, Loss: 0.597\n",
      "Epoch: 26, Loss: 0.595\n",
      "Epoch: 27, Loss: 0.593\n",
      "Epoch: 28, Loss: 0.591\n",
      "Epoch: 29, Loss: 0.590\n",
      "Epoch: 30, Loss: 0.588\n",
      "Epoch: 31, Loss: 0.587\n",
      "Epoch: 32, Loss: 0.585\n",
      "Epoch: 33, Loss: 0.584\n",
      "Epoch: 34, Loss: 0.583\n",
      "Epoch: 35, Loss: 0.582\n",
      "Epoch: 36, Loss: 0.581\n",
      "Epoch: 37, Loss: 0.580\n",
      "Epoch: 38, Loss: 0.579\n",
      "Epoch: 39, Loss: 0.578\n",
      "Epoch: 40, Loss: 0.578\n",
      "Epoch: 41, Loss: 0.577\n",
      "Epoch: 42, Loss: 0.577\n",
      "Epoch: 43, Loss: 0.576\n",
      "Epoch: 44, Loss: 0.575\n",
      "Epoch: 45, Loss: 0.575\n",
      "Epoch: 46, Loss: 0.575\n",
      "Epoch: 47, Loss: 0.574\n",
      "Epoch: 48, Loss: 0.574\n",
      "Epoch: 49, Loss: 0.573\n",
      "Epoch: 50, Loss: 0.573\n"
     ]
    },
    {
     "data": {
      "image/png": "[encoded data removed]",
      "text/plain": [
       "<Figure size 432x288 with 1 Axes>"
      ]
     },
     "metadata": {
      "needs_background": "light"
     },
     "output_type": "display_data"
    },
    {
     "data": {
      "image/png": "[encoded data removed]",
      "text/plain": [
       "<Figure size 432x288 with 1 Axes>"
      ]
     },
     "metadata": {
      "needs_background": "light"
     },
     "output_type": "display_data"
    },
    {
     "name": "stdout",
     "output_type": "stream",
     "text": [
      "prediction with optimized weights and bais \n",
      " [[0]\n",
      " [0]\n",
      " [0]\n",
      " [1]]\n"
     ]
    }
   ],
   "source": [
    "x=np.array([[0,0],[0,1],[1,0],[1,1]])\n",
    "y=np.array([0,0,0,1]) \n",
    "\n",
    "GradeintDescent(x,y,epoch_count=50,learning_rate=0.02).gradeintdescent_regressor()"
   ]
  },
  {
   "cell_type": "code",
   "execution_count": null,
   "metadata": {
    "id": "bHks17lvTims"
   },
   "outputs": [],
   "source": []
  }
 ],
 "metadata": {
  "colab": {
   "collapsed_sections": [],
   "name": "BalaGugaGopalS_NNLabExp_1.4.ipynb",
   "provenance": []
  },
  "kernelspec": {
   "display_name": "Python 3 (ipykernel)",
   "language": "python",
   "name": "python3"
  },
  "language_info": {
   "codemirror_mode": {
    "name": "ipython",
    "version": 3
   },
   "file_extension": ".py",
   "mimetype": "text/x-python",
   "name": "python",
   "nbconvert_exporter": "python",
   "pygments_lexer": "ipython3",
   "version": "3.8.10"
  }
 },
 "nbformat": 4,
 "nbformat_minor": 1
}
