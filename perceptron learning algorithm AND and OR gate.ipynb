{
 "cells": [
  {
   "cell_type": "markdown",
   "metadata": {
    "id": "--jpBJUii4yg"
   },
   "source": [
    "**Name:** Bala Guga Gopal S\n",
    "\n",
    "**Script Name:**  Implementing perceptron learning algorithm\n",
    "\n",
    "**Script Description:** Implementing perceptron learning algorithm for logic gates **OR** and **AND** using python lib"
   ]
  },
  {
   "cell_type": "markdown",
   "metadata": {
    "id": "zEfuIqHPiKMu"
   },
   "source": [
    "# Perceptron learning algorithm\n",
    "\n",
    "The Perceptron is a Supervised Learning Algorithm for binary classifiers. The Perceptron Model implements the following function:\n",
    "<p align=\"center\">\n",
    "    <img src=\"https://www.geeksforgeeks.org/wp-content/ql-cache/quicklatex.com-f98cbf4744582c2b3309f1b0ceb8a313_l3.svg\" width=\"350\" height=\"250\">\n",
    "</p> \n",
    "For a particular choice of the weight vector $\\boldsymbol{w}$ and bias parameter $\\boldsymbol{b}$, the model predicts output $\\boldsymbol{\\hat{y}}$ for the corresponding input vector $\\boldsymbol{x}$. \n",
    "<p align=\"center\">\n",
    "    <img src=\"https://miro.medium.com/max/520/1*UGSVZ_Xq19x_wQeVlz76dQ.jpeg\" width=\"350\" height=\"250\">\n",
    "</p> "
   ]
  },
  {
   "cell_type": "markdown",
   "metadata": {
    "id": "r0Jna-h-ez4v"
   },
   "source": [
    "# OR gate Using Preceptron Model\n",
    "OR logical function truth table for 2-bit binary variables, i.e, the input vector $\\boldsymbol{x} : (\\boldsymbol{x_{1}}, \\boldsymbol{x_{2}})$ and the corresponding output $\\boldsymbol{y}$ –\n",
    "<p align=\"center\">\n",
    "    <img src=\"https://electronics-club.com/wp-content/uploads/2019/04/OR-Gate.png\" width=\"450\" height=\"250\">\n",
    "</p> \n",
    "Taken weight parameters are $\\boldsymbol{w_{1}} = 1, \\boldsymbol{w_{2}} = 1$ and the bias parameter is $\\boldsymbol{b} = -0.5$."
   ]
  },
  {
   "cell_type": "code",
   "execution_count": 8,
   "metadata": {
    "colab": {
     "base_uri": "https://localhost:8080/"
    },
    "id": "kVUHyt8jh-tI",
    "outputId": "fbd6631f-966b-4d7b-bcb9-195a88ba1fcd"
   },
   "outputs": [
    {
     "name": "stdout",
     "output_type": "stream",
     "text": [
      "   X1  X2  Y\n",
      "0   0   0  0\n",
      "1   0   1  1\n",
      "2   1   0  1\n",
      "3   1   1  1\n"
     ]
    }
   ],
   "source": [
    "#importing libraries\n",
    "import numpy as np\n",
    "import pandas as pd\n",
    "\n",
    "x1 = np.array([0, 0, 1, 1]) # X1 input for OR\n",
    "x2 = np.array([0, 1, 0, 1]) # X2 input for OR\n",
    "w1 = 1 #weight one\n",
    "w2 = 1 #weight two\n",
    "thetha = -0.5 #bias parameter\n",
    "\n",
    "y = [None]*4  #output variable\n",
    "\n",
    "#for loop to iterate over all the inputs x(n)\n",
    "for i in range(4):\n",
    "  n = np.add((x1[i]*w1),(x2[i]*w2))+thetha\n",
    "  #print(n)\n",
    "  if (n>=0):\n",
    "    y[i] = 1\n",
    "  else:\n",
    "    y[i] = 0\n",
    "#print Result in screen using dataframe\n",
    "result = [x1,x2,y]\n",
    "df = pd.DataFrame(result, index=['X1','X2','Y'])\n",
    "print(df.T)"
   ]
  },
  {
   "cell_type": "markdown",
   "metadata": {
    "id": "s887bwPFgGvH"
   },
   "source": [
    "# AND gate using Preceptron model\n",
    "\n",
    "AND logical function truth table for 2-bit binary variables, i.e, the input vector $\\boldsymbol{x} : (\\boldsymbol{x_{1}}, \\boldsymbol{x_{2}})$ and the corresponding output $\\boldsymbol{y}$ –\n",
    "<p align=\"center\">\n",
    "    <img src=\"https://www.allaboutcircuits.com/uploads/articles/two-input-and-gate-truth-table.jpg\" width=\"250\" height=\"250\">\n",
    "</p> \n",
    "Taken weight parameters are $\\boldsymbol{w_{1}} = 1, \\boldsymbol{w_{2}} = 1$ and the bias parameter is $\\boldsymbol{b} = -1.5$."
   ]
  },
  {
   "cell_type": "code",
   "execution_count": 7,
   "metadata": {
    "colab": {
     "base_uri": "https://localhost:8080/"
    },
    "id": "cQkDPAWEPwFh",
    "outputId": "5421b2bb-2c6c-45a4-dbd3-5565359c07b5"
   },
   "outputs": [
    {
     "name": "stdout",
     "output_type": "stream",
     "text": [
      "   X1  X2  Y\n",
      "0   0   0  0\n",
      "1   0   1  0\n",
      "2   1   0  0\n",
      "3   1   1  1\n"
     ]
    }
   ],
   "source": [
    "#importing libraries\n",
    "import numpy as np\n",
    "import pandas as pd\n",
    " \n",
    "x1 = np.array([0, 0, 1, 1]) # X1 input for AND \n",
    "x2 = np.array([0, 1, 0, 1]) # X2 input for AND\n",
    "w1 = 1 #weight one\n",
    "w2 = 1 #weight two\n",
    "thetha = -1.5  #bias parameter\n",
    "\n",
    "y = [None]*4   #output variable\n",
    "\n",
    "#for loop to iterate over all the inputs x(n)\n",
    "for i in range(4):\n",
    "  n = np.add((x1[i]*w1),(x2[i]*w2))+thetha\n",
    "  #print(n)\n",
    "  if (n>=0):\n",
    "    y[i] = 1\n",
    "  else:\n",
    "    y[i] = 0\n",
    "\n",
    "#print Result in screen using dataframe\n",
    "result = [x1,x2,y]\n",
    "df = pd.DataFrame(result, index=['X1','X2','Y'])\n",
    "print(df.T)"
   ]
  }
 ],
 "metadata": {
  "colab": {
   "collapsed_sections": [],
   "name": "BalaGugaGopal_NNLabExp_1.3.ipynb",
   "provenance": []
  },
  "kernelspec": {
   "display_name": "Python 3 (ipykernel)",
   "language": "python",
   "name": "python3"
  },
  "language_info": {
   "codemirror_mode": {
    "name": "ipython",
    "version": 3
   },
   "file_extension": ".py",
   "mimetype": "text/x-python",
   "name": "python",
   "nbconvert_exporter": "python",
   "pygments_lexer": "ipython3",
   "version": "3.8.10"
  }
 },
 "nbformat": 4,
 "nbformat_minor": 1
}
